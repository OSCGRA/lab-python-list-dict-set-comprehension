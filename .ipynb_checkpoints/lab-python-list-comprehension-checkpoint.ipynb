{
 "cells": [
  {
   "cell_type": "markdown",
   "id": "25d7736c-ba17-4aff-b6bb-66eba20fbf4e",
   "metadata": {},
   "source": [
    "# Lab | List, Dict and Set Comprehension"
   ]
  },
  {
   "cell_type": "markdown",
   "id": "7dd3cbde-675a-4b81-92c3-f728846dbe06",
   "metadata": {},
   "source": [
    "## Exercise: Managing Customer Orders Optimized with Comprehension"
   ]
  },
  {
   "cell_type": "markdown",
   "id": "5d500160-2fb7-4777-b5e4-09d45ebaf328",
   "metadata": {},
   "source": [
    "In the previous exercise, you developed a program to manage customer orders and inventory. Now, let's take it a step further and incorporate comprehension into your code.\n",
    "\n",
    "Follow the steps below to complete the exercise:\n",
    "\n",
    "1. Review your code from the previous exercise and identify areas where you can apply comprehension to simplify and streamline your code. \n",
    "\n",
    "    - *Hint: Apply it to initialize inventory, updating the inventory and printing the updated inventory.*\n",
    "    \n",
    "    - For example, in initializing the inventory, we could have:\n",
    "    \n",
    "        ```python\n",
    "        def initialize_inventory(products):\n",
    "            inventory = {product: int(input(f\"Enter the quantity of {product}s available: \")) for product in products}\n",
    "            return inventory\n",
    "\n",
    "        ```\n",
    "<br>\n",
    "    \n",
    "    \n",
    "2. Modify the function get_customer_orders so it prompts the user to enter the number of customer orders and gathers the product names using a loop and user input. Use comprehension.\n",
    "\n",
    "3. Add a new function to calculate the total price of the customer order. For each product in customer_orders, prompt the user to enter the price of that product. Use comprehension to calculate the total price. Note: assume that the user can only have 1 unit of each product.\n",
    "\n",
    "4. Modify the update_inventory function to remove the product from the inventory if its quantity becomes zero after fulfilling the customer orders. Use comprehension to filter out the products with a quantity of zero from the inventory.\n",
    "\n",
    "5. Print the total price of the customer order.\n",
    "\n",
    "Your code should produce output similar to the following:\n",
    "\n",
    "```python\n",
    "Enter the quantity of t-shirts available:  5\n",
    "Enter the quantity of mugs available:  4\n",
    "Enter the quantity of hats available:  3\n",
    "Enter the quantity of books available:  2\n",
    "Enter the quantity of keychains available:  1\n",
    "Enter the number of customer orders:  2\n",
    "Enter the name of a product that a customer wants to order:  hat\n",
    "Enter the name of a product that a customer wants to order:  keychain\n",
    "\n",
    "Order Statistics:\n",
    "Total Products Ordered: 2\n",
    "Percentage of Unique Products Ordered: 40.0\n",
    "\n",
    "Updated Inventory:\n",
    "t-shirt: 5\n",
    "mug: 4\n",
    "hat: 2\n",
    "book: 2\n",
    "Enter the price of keychain:  5\n",
    "Enter the price of hat:  10\n",
    "Total Price: 15.0\n",
    "\n",
    "```\n"
   ]
  },
  {
   "cell_type": "code",
   "execution_count": 1,
   "id": "69d36f1c",
   "metadata": {
    "tags": []
   },
   "outputs": [],
   "source": [
    "#Dictionaries and lists\n",
    "\n",
    "products = (\"t-shirt\", \"mug\", \"hat\", \"book\", \"keychain\")\n",
    "inventory={}\n",
    "customer_orders=[]\n",
    "price_total = []"
   ]
  },
  {
   "cell_type": "code",
   "execution_count": 2,
   "id": "816a0612",
   "metadata": {
    "tags": []
   },
   "outputs": [],
   "source": [
    "def initialize_inventory(): #Function to iniciate the inventory\n",
    "    global inventory\n",
    "    inventory = {product: int(input(\"How many \" + product + \" are in the inventory?: \")) for product in products}"
   ]
  },
  {
   "cell_type": "code",
   "execution_count": 3,
   "id": "dec4ac8b",
   "metadata": {
    "tags": []
   },
   "outputs": [],
   "source": [
    "def get_customer_orders(): #Function to get the customer orders    \n",
    "    add_order =input(\"Do you want to add an order?? Y/N: \").lower()\n",
    "    \n",
    "    while add_order==\"y\":\n",
    "        product_order=input(\"Enter the product name: \")\n",
    "        customer_orders.append(product_order)\n",
    "        add_order=str(input(\"Would you like to add other product in this order? Y/N:\")).lower()\n",
    "        \n",
    "        if add_order == \"n\":\n",
    "            break\n",
    "            print(\"Your order is: \", customer_orders)\n",
    "        elif add_order == \"y\":\n",
    "            continue\n",
    "        else:\n",
    "            print(\"Add the corrects parameters\")\n",
    "            add_order=str(input(\"Would you like to add other product in this order? Y/N:\")).lower()\n",
    "            \n",
    "            \n",
    "    if add_order==\"n\":\n",
    "        print(\"Thanks for your visit\\n\")\n",
    "        \n",
    "        \n",
    "    else: \n",
    "        print(\"Thanks for your visit\\n\")\n",
    "    "
   ]
  },
  {
   "cell_type": "code",
   "execution_count": 4,
   "id": "da543d2f",
   "metadata": {
    "tags": []
   },
   "outputs": [],
   "source": [
    "def customer_order_resume(customer_orders): #Function to resume orders\n",
    "    resume = [f\"Customer order for {product}\" for product in customer_orders]\n",
    "    print(\"Customer Order Resume\\n\")\n",
    "    print(\"\\n\".join(resume))"
   ]
  },
  {
   "cell_type": "code",
   "execution_count": 5,
   "id": "7224d268",
   "metadata": {},
   "outputs": [],
   "source": [
    "def order_statistics(customer_orders, inventory):\n",
    "    total_order=len(customer_orders)\n",
    "    statistics=(total_order/sum(inventory.values()))*100\n",
    "    print(\"\\nOrder Statistics\\n\")\n",
    "    print(\"Total Order: \", total_order, \"products in this order\")\n",
    "    print(\"Percentage of products: \",statistics, \"%\\n\")    "
   ]
  },
  {
   "cell_type": "code",
   "execution_count": 6,
   "id": "f1624d81",
   "metadata": {
    "tags": []
   },
   "outputs": [],
   "source": [
    "def update_inventory(customer_orders, inventory):#Function to update the inventory\n",
    "    for product_order in customer_orders:\n",
    "        if product_order in inventory:\n",
    "            inventory[product_order]-=1\n",
    "        else:\n",
    "            print(f\"Product not found in inventory.\\n\")"
   ]
  },
  {
   "cell_type": "code",
   "execution_count": 7,
   "id": "8c991568",
   "metadata": {
    "tags": []
   },
   "outputs": [],
   "source": [
    "def print_final_inventory(inventory): #Function to print the inventory\n",
    "    print(\"Final Inventory:\\n\")\n",
    "    for key, value in inventory.items():\n",
    "        print (f\"{key}: {value}\\n\")"
   ]
  },
  {
   "cell_type": "code",
   "execution_count": 8,
   "id": "0450ef40-45f4-49f3-993e-5f92c8ac3aae",
   "metadata": {
    "tags": []
   },
   "outputs": [],
   "source": [
    "def total_price_order(customer_orders): #Function to get the total price of the inventory.\n",
    "    price_total = sum([int(input(\"Add price of \" + product_order + \": \")) for product_order in customer_orders])\n",
    "    print(\"\\nTotal price of this order: \", price_total, \"€\")"
   ]
  },
  {
   "cell_type": "code",
   "execution_count": 9,
   "id": "c4426ca2-c4c5-4904-a326-7543c3f3170f",
   "metadata": {
    "tags": []
   },
   "outputs": [
    {
     "name": "stdout",
     "output_type": "stream",
     "text": [
      "How many t-shirt are in the inventory?: 15\n",
      "How many mug are in the inventory?: 13\n",
      "How many hat are in the inventory?: 25\n",
      "How many book are in the inventory?: 14\n",
      "How many keychain are in the inventory?: 12\n",
      "Do you want to add an order?? Y/N: y\n",
      "Enter the product name: hat\n",
      "Would you like to add other product in this order? Y/N:\n",
      "Add the corrects parameters\n",
      "Would you like to add other product in this order? Y/N:y\n",
      "Enter the product name: hat\n",
      "Would you like to add other product in this order? Y/N:y\n",
      "Enter the product name: mug\n",
      "Would you like to add other product in this order? Y/N:y\n",
      "Enter the product name: book\n",
      "Would you like to add other product in this order? Y/N:n\n",
      "Thanks for your visit\n",
      "\n",
      "Customer Order Resume\n",
      "\n",
      "Customer order for hat\n",
      "Customer order for hat\n",
      "Customer order for mug\n",
      "Customer order for book\n",
      "\n",
      "Order Statistics\n",
      "\n",
      "Total Order:  4 products in this order\n",
      "Percentage of products:  5.063291139240507 %\n",
      "\n",
      "Final Inventory:\n",
      "\n",
      "t-shirt: 15\n",
      "\n",
      "mug: 12\n",
      "\n",
      "hat: 23\n",
      "\n",
      "book: 13\n",
      "\n",
      "keychain: 12\n",
      "\n",
      "Add price of hat: 14\n",
      "Add price of hat: 12\n",
      "Add price of mug: 12\n",
      "Add price of book: 10\n",
      "\n",
      "Total price of this order:  48 €\n"
     ]
    }
   ],
   "source": [
    "#Main Program\n",
    "\n",
    "initialize_inventory()\n",
    "\n",
    "get_customer_orders()\n",
    "customer_order_resume(customer_orders)\n",
    "\n",
    "order_statistics(customer_orders, inventory)\n",
    "\n",
    "update_inventory(customer_orders, inventory)\n",
    "print_final_inventory(inventory)\n",
    "\n",
    "total_price_order(customer_orders)"
   ]
  },
  {
   "cell_type": "code",
   "execution_count": null,
   "id": "3cb289af",
   "metadata": {},
   "outputs": [],
   "source": []
  }
 ],
 "metadata": {
  "kernelspec": {
   "display_name": "Python 3 (ipykernel)",
   "language": "python",
   "name": "python3"
  },
  "language_info": {
   "codemirror_mode": {
    "name": "ipython",
    "version": 3
   },
   "file_extension": ".py",
   "mimetype": "text/x-python",
   "name": "python",
   "nbconvert_exporter": "python",
   "pygments_lexer": "ipython3",
   "version": "3.11.5"
  }
 },
 "nbformat": 4,
 "nbformat_minor": 5
}
